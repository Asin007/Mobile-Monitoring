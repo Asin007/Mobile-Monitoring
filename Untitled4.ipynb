{
  "nbformat": 4,
  "nbformat_minor": 0,
  "metadata": {
    "colab": {
      "private_outputs": true,
      "provenance": [],
      "authorship_tag": "ABX9TyO4IA2HerBSIWCspQXm72wg",
      "include_colab_link": true
    },
    "kernelspec": {
      "name": "python3",
      "display_name": "Python 3"
    },
    "language_info": {
      "name": "python"
    }
  },
  "cells": [
    {
      "cell_type": "markdown",
      "metadata": {
        "id": "view-in-github",
        "colab_type": "text"
      },
      "source": [
        "<a href=\"https://colab.research.google.com/github/Asin007/Mobile-Monitoring/blob/main/Untitled4.ipynb\" target=\"_parent\"><img src=\"https://colab.research.google.com/assets/colab-badge.svg\" alt=\"Open In Colab\"/></a>"
      ]
    },
    {
      "cell_type": "code",
      "execution_count": null,
      "metadata": {
        "id": "tJpbe5BR56Zg"
      },
      "outputs": [],
      "source": [
        "import tensorflow as tf\n",
        "import tensorflow_datasets as tfds\n",
        "\n",
        "# Load the COCO 2017 dataset and take a subset of 5000 samples\n",
        "ds, info = tfds.load('coco/2017', split='train', with_info=True)\n",
        "\n",
        "# Category ID for \"cell phone\" in COCO dataset\n",
        "CELL_PHONE_CATEGORY_ID = 77\n",
        "\n",
        "# Function to filter images that contain cell phones\n",
        "def filter_mobile_phone(example):\n",
        "    # Get the annotations (labels)\n",
        "    annotations = example['objects']['label']\n",
        "    # Check if 'cell phone' (ID = 77) is present in the annotations\n",
        "    return tf.reduce_any(tf.equal(annotations, CELL_PHONE_CATEGORY_ID))\n",
        "\n",
        "# Filter the dataset to include only images containing cell phones\n",
        "filtered_ds = ds.filter(filter_mobile_phone)\n",
        "\n",
        "# Take only 5000 examples from the filtered dataset\n",
        "filtered_ds = filtered_ds.take(5000)\n",
        "\n",
        "# Preprocessing function (resize, normalize, etc.)\n",
        "def preprocess(image, label):\n",
        "    image = tf.image.resize(image, (28, 28))  # Resize to 28x28\n",
        "    image = tf.cast(image, tf.float32) / 255.0  # Normalize pixel values\n",
        "    return image, label\n",
        "\n",
        "# Apply preprocessing to the dataset\n",
        "filtered_ds = filtered_ds.map(lambda x: preprocess(x['image'], x['objects']['label']))\n",
        "\n",
        "# Split the dataset into train and test sets\n",
        "train_size = int(0.8 * 5000)  # 80% for training\n",
        "test_size = 5000 - train_size  # 20% for testing\n",
        "train_ds = filtered_ds.take(train_size)\n",
        "test_ds = filtered_ds.skip(train_size)\n",
        "\n",
        "# Batch and shuffle the dataset\n",
        "train_ds = train_ds.shuffle(1000).batch(32)\n",
        "test_ds = test_ds.batch(32)\n",
        "\n",
        "# Build the model (Simple Dense Model)\n",
        "model = tf.keras.models.Sequential([\n",
        "    tf.keras.layers.Flatten(input_shape=(28, 28, 3)),  # 3 channels for RGB\n",
        "    tf.keras.layers.Dense(128, activation='relu'),\n",
        "    tf.keras.layers.Dropout(0.2),\n",
        "    tf.keras.layers.Dense(10, activation='softmax')\n",
        "])\n",
        "\n",
        "# Compile the model\n",
        "model.compile(optimizer='adam',\n",
        "              loss=tf.keras.losses.SparseCategoricalCrossentropy(from_logits=True),\n",
        "              metrics=['accuracy'])\n",
        "\n",
        "# Train the model\n",
        "model.fit(train_ds, epochs=5)\n",
        "\n",
        "# Evaluate the model on the test dataset\n",
        "model.evaluate(test_ds, verbose=2)\n",
        "\n",
        "# Build a CNN model (for better performance on image data)\n",
        "cnn_model = tf.keras.models.Sequential([\n",
        "    tf.keras.layers.Conv2D(32, (3, 3), activation='relu', input_shape=(28, 28, 3)),\n",
        "    tf.keras.layers.MaxPooling2D((2, 2)),\n",
        "    tf.keras.layers.Conv2D(64, (3, 3), activation='relu'),\n",
        "    tf.keras.layers.MaxPooling2D((2, 2)),\n",
        "    tf.keras.layers.Flatten(),\n",
        "    tf.keras.layers.Dense(128, activation='relu'),\n",
        "    tf.keras.layers.Dense(10, activation='softmax')\n",
        "])\n",
        "\n",
        "# Compile the CNN model\n",
        "cnn_model.compile(optimizer='adam',\n",
        "                  loss=tf.keras.losses.SparseCategoricalCrossentropy(from_logits=False),\n",
        "                  metrics=['accuracy'])\n",
        "\n",
        "# Define EarlyStopping callback\n",
        "callbacks = [tf.keras.callbacks.EarlyStopping(monitor='val_loss', patience=3)]\n",
        "\n",
        "# Train the CNN model with a validation split\n",
        "cnn_model.fit(train_ds, epochs=10, validation_split=0.2, callbacks=callbacks)\n",
        "\n",
        "# Save the model\n",
        "cnn_model.save('Mobile_detect.h5')\n"
      ]
    }
  ]
}